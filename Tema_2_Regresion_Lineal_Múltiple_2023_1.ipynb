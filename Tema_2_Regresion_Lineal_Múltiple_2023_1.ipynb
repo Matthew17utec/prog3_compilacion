{
  "cells": [
    {
      "cell_type": "markdown",
      "metadata": {
        "id": "view-in-github",
        "colab_type": "text"
      },
      "source": [
        "<a href=\"https://colab.research.google.com/github/Matthew17utec/prog3_compilacion/blob/master/Tema_2_Regresion_Lineal_M%C3%BAltiple_2023_1.ipynb\" target=\"_parent\"><img src=\"https://colab.research.google.com/assets/colab-badge.svg\" alt=\"Open In Colab\"/></a>"
      ]
    },
    {
      "cell_type": "markdown",
      "source": [
        " # Práctica Guiada 2.\n",
        " ----\n",
        "  \n",
        "  Universidad : UTEC \\\\\n",
        "  Curso       : Inteligencia Artificial \\\\\n",
        "  Profesor    : Cristian López Del Alamo \\\\\n",
        "  Tema        : Regresión Lineal Múltiple \\\\\n",
        "  \n",
        "\n",
        " ----\n"
      ],
      "metadata": {
        "id": "XrmVSlAAcKh7"
      }
    },
    {
      "cell_type": "markdown",
      "metadata": {
        "id": "DFlH9PtJHOHl"
      },
      "source": [
        "\n",
        "\n",
        "1.  En esta práctica se pide realizar pruebas utilizando   diferentes funciones de pérdida.\n",
        "\n",
        "2.  Su equipo debe implementar el algoritmo de machine learning para  regresión lineal múltiple y realizar las correspondientes pruebas usando el siguiente  [Dataset](\n",
        "https://docs.google.com/spreadsheets/d/10wC32tLXK9xHfsQ6DuDSQIqEi4qPLogfThHwATvVgpc/edit?usp=sharing\n",
        ").  \n",
        "\n",
        "3. MSE Loss Function \\\\\n",
        "\n",
        "  $MSE = \\frac{1}{2m}\\sum_{i=0}^m (y_i - h(x_i))^2$\n",
        "\n",
        "4. Utilize todo los datos del dataset para entrenar  y grafique el plano que mejor separa a los datos. [Help](https://stackoverflow.com/questions/36060933/matplotlib-plot-a-plane-and-points-in-3d-simultaneously)\n",
        "\n",
        "Importante: No se olvide de normalizar los datos entre cero y uno, por cada columna.\n",
        "\n",
        "\n",
        "\n"
      ]
    },
    {
      "cell_type": "code",
      "source": [
        "from google.colab import drive\n",
        "drive.mount('/content/drive')"
      ],
      "metadata": {
        "colab": {
          "base_uri": "https://localhost:8080/"
        },
        "id": "-fZbLdlsloF4",
        "outputId": "0febeea5-43aa-42cb-e534-7be496af4541"
      },
      "execution_count": null,
      "outputs": [
        {
          "output_type": "stream",
          "name": "stdout",
          "text": [
            "Mounted at /content/drive\n"
          ]
        }
      ]
    },
    {
      "cell_type": "markdown",
      "metadata": {
        "id": "a_DEtwUxFsLp"
      },
      "source": [
        "Crear el DataSet\n",
        "\n",
        "\n",
        "\n",
        "\n",
        "\n"
      ]
    },
    {
      "cell_type": "code",
      "execution_count": null,
      "metadata": {
        "id": "RgZIGVKlFuvn",
        "colab": {
          "base_uri": "https://localhost:8080/"
        },
        "outputId": "97d8136c-ff88-48e1-ef95-d21bf6936c23"
      },
      "outputs": [
        {
          "output_type": "stream",
          "name": "stdout",
          "text": [
            "    bias      Year  Population\n",
            "0    1.0  0.000000    0.000000\n",
            "1    1.0  0.066667    0.045566\n",
            "2    1.0  0.133333    0.096338\n",
            "3    1.0  0.200000    0.147777\n",
            "4    1.0  0.266667    0.198772\n",
            "5    1.0  0.333333    0.251947\n",
            "6    1.0  0.400000    0.333111\n",
            "7    1.0  0.466667    0.383171\n",
            "8    1.0  0.533333    0.435189\n",
            "9    1.0  0.600000    0.495083\n",
            "10   1.0  0.666667    0.571219\n",
            "11   1.0  0.733333    0.638188\n",
            "12   1.0  0.800000    0.701197\n",
            "13   1.0  0.866667    0.790282\n",
            "14   1.0  0.933333    0.900814\n",
            "15   1.0  1.000000    1.000000\n"
          ]
        },
        {
          "output_type": "stream",
          "name": "stderr",
          "text": [
            "/usr/local/lib/python3.9/dist-packages/numpy/core/fromnumeric.py:84: FutureWarning: In a future version, DataFrame.min(axis=None) will return a scalar min over the entire DataFrame. To retain the old behavior, use 'frame.min(axis=0)' or just 'frame.min()'\n",
            "  return reduction(axis=axis, out=out, **passkwargs)\n",
            "/usr/local/lib/python3.9/dist-packages/numpy/core/fromnumeric.py:84: FutureWarning: In a future version, DataFrame.max(axis=None) will return a scalar max over the entire DataFrame. To retain the old behavior, use 'frame.max(axis=0)' or just 'frame.max()'\n",
            "  return reduction(axis=axis, out=out, **passkwargs)\n",
            "/usr/local/lib/python3.9/dist-packages/numpy/core/fromnumeric.py:84: FutureWarning: In a future version, DataFrame.min(axis=None) will return a scalar min over the entire DataFrame. To retain the old behavior, use 'frame.min(axis=0)' or just 'frame.min()'\n",
            "  return reduction(axis=axis, out=out, **passkwargs)\n"
          ]
        }
      ],
      "source": [
        "import pandas as pd\n",
        "import numpy as np\n",
        "\n",
        "dataset = pd.read_csv('/content/drive/MyDrive/UTEC/CURSOS/2022.2/Inteligencia Artificial/DataSet/db.csv')\n",
        "X = dataset[[\"Year\",\"Population\"]]\n",
        "Y = dataset[\"Employed\"]\n",
        "\n",
        "\n",
        "\n",
        "\n",
        "\n",
        "\n",
        "\n"
      ]
    },
    {
      "cell_type": "markdown",
      "metadata": {
        "id": "DRbGcXmWIaKO"
      },
      "source": [
        "# Modelo\n",
        "\n",
        "Nota: Antes añadir Añadir una columna de nx1 a X con valor 1.\n",
        "\n",
        "$h(X) = X*W^t$\n",
        "\n"
      ]
    },
    {
      "cell_type": "code",
      "execution_count": null,
      "metadata": {
        "id": "2NnYyf2oG1Fw"
      },
      "outputs": [],
      "source": [
        "\n",
        "def h(X, W):\n",
        "    # write your code here\n",
        "    # your code returns a  n by 1 vector. This  vector contains the prediction for all data\n",
        "\n"
      ]
    },
    {
      "cell_type": "markdown",
      "metadata": {
        "id": "MHWVdGjbIUna"
      },
      "source": [
        "# Loss function\n",
        "Nota: La función de pérdida no cambia, solo la llamada a la función h\n",
        "$\\mathcal{L} =  ||Y - XW^t||_2^2$\n",
        "\n"
      ]
    },
    {
      "cell_type": "code",
      "execution_count": null,
      "metadata": {
        "id": "2FiEbigVG9Hf"
      },
      "outputs": [],
      "source": [
        "def Error(X, W,Y):\n",
        "  #return sum((Y - h(X,W))**2)/(2*len(Y))\n",
        "\n",
        "   # write your code here,\n"
      ]
    },
    {
      "cell_type": "markdown",
      "metadata": {
        "id": "jV-_CQ87FrdQ"
      },
      "source": [
        "# Cálculo de derivadas\n",
        "Nota: Intente resolver este algoritmo desde un punto de vista matricial.\n",
        "\n",
        "$dw_j = \\frac{1}{m}\\sum_{i=0}^m(y_i - h(x_i))(-x_{ij})$"
      ]
    },
    {
      "cell_type": "code",
      "execution_count": null,
      "metadata": {
        "id": "0RxT6ee6H8Vn"
      },
      "outputs": [],
      "source": [
        "def derivada(X, W, Y):\n",
        "    # write your code here\n",
        "    # Return a (k+1)x1 vector. This vector contains the derivatives from Loss function\n",
        "    # respect to all variable w_j\n",
        "\n"
      ]
    },
    {
      "cell_type": "markdown",
      "metadata": {
        "id": "5CRCXMYd6PrX"
      },
      "source": [
        "# Actualiación de parámetros\n",
        "\n",
        "Recuerde: $\\frac{\\partial L}{\\partial w}$ representa un vector con todas las derivadas de la función de pérdida con rescto a W.\n",
        "\n",
        "$W  = W - \\alpha*\\frac{\\partial L}{\\partial W} $\n",
        "\n"
      ]
    },
    {
      "cell_type": "code",
      "execution_count": null,
      "metadata": {
        "id": "yv06Mc7NJJx6"
      },
      "outputs": [],
      "source": [
        "def update(W,  dW, alpha):\n",
        "# W is a (kx1) vector\n",
        "# dW is a (kx1) vector with the derivatives of the loss function with respect to W\n",
        "# alpha is a float number between 0 and 1\n",
        "\n",
        " # write your code here\n",
        "\n",
        "  return W"
      ]
    },
    {
      "cell_type": "markdown",
      "source": [
        "# Training"
      ],
      "metadata": {
        "id": "Z7Z5XhYtXYm-"
      }
    },
    {
      "cell_type": "code",
      "execution_count": null,
      "metadata": {
        "id": "HSuPO-XiIjem"
      },
      "outputs": [],
      "source": [
        "def train(X, Y, epochs, alfa):\n",
        "    W = np.random.random(X.shape[1])\n",
        "    L = Error(X,W,Y)\n",
        "    loss = []\n",
        "    for i in range(epochs):\n",
        "        dW = derivada(X, W, Y)\n",
        "        W = update(W,alfa, dW)\n",
        "        L = Error(X, W,Y)\n",
        "        loss.append(L)\n",
        "        if ((i%1000)==0):\n",
        "          print(\"loss value error :\" + str(L))\n",
        "    return W, loss\n",
        "\n",
        "\n",
        "\n",
        "def Plot_Loss(epochs,loss):\n",
        "   plt.plot(epochs, loss)\n"
      ]
    },
    {
      "cell_type": "code",
      "source": [],
      "metadata": {
        "colab": {
          "base_uri": "https://localhost:8080/",
          "height": 464
        },
        "id": "av8uTE_c2PXM",
        "outputId": "bedc56ff-3dd7-4557-8815-7cb25dd6a534"
      },
      "execution_count": null,
      "outputs": [
        {
          "output_type": "stream",
          "name": "stderr",
          "text": [
            "<ipython-input-70-528d47ed6f77>:5: FutureWarning: Calling a ufunc on non-aligned DataFrames (or DataFrame/Series combination). Currently, the indices are ignored and the result takes the index/columns of the first DataFrame. In the future , the DataFrames/Series will be aligned before applying the ufunc.\n",
            "Convert one of the arguments to a NumPy array (eg 'ufunc(df1, np.asarray(df2)') to keep the current behaviour, or align manually (eg 'df1, df2 = df1.align(df2)') before passing to the ufunc to obtain the future behaviour and silence this warning.\n",
            "  return np.matmul((Y - h(X,W)), -1*X)/(len(Y))\n"
          ]
        },
        {
          "output_type": "stream",
          "name": "stdout",
          "text": [
            "loss value error :0.05255079145095358\n",
            "loss value error :0.011792047642911365\n"
          ]
        },
        {
          "output_type": "display_data",
          "data": {
            "text/plain": [
              "<Figure size 700x350 with 1 Axes>"
            ],
            "image/png": "[encoded data removed]"
          },
          "metadata": {}
        }
      ]
    },
    {
      "cell_type": "code",
      "source": [
        "plot()"
      ],
      "metadata": {
        "id": "T8Ql9-p-99il"
      },
      "execution_count": null,
      "outputs": []
    },
    {
      "cell_type": "code",
      "source": [
        "### Plot plane example\n",
        "import numpy as np\n",
        "import matplotlib.pyplot as plt\n",
        "\n",
        "plt.rcParams[\"figure.figsize\"] = [7.00, 3.50]\n",
        "plt.rcParams[\"figure.autolayout\"] = True\n",
        "\n",
        "x = np.linspace(-10, 10, 100)\n",
        "y = np.linspace(-10, 10, 100)\n",
        "\n",
        "x, y = np.meshgrid(x, y)\n",
        "# ecuacion del plano: x_1w_1 + x_2w_2 + b\n",
        "\n",
        "eq = 0.1 * x + 40 * y + 100.09\n",
        "\n",
        "fig = plt.figure()\n",
        "\n",
        "ax = fig.gca(projection='3d')\n",
        "\n",
        "ax.plot_surface(x, y, eq)\n",
        "\n",
        "plt.show()"
      ],
      "metadata": {
        "id": "jUErEwHLKPPx"
      },
      "execution_count": null,
      "outputs": []
    },
    {
      "cell_type": "markdown",
      "source": [
        "# Testing"
      ],
      "metadata": {
        "id": "nis8QDOFXep7"
      }
    },
    {
      "cell_type": "code",
      "execution_count": null,
      "metadata": {
        "id": "c9T4hkAK6TIW"
      },
      "outputs": [],
      "source": [
        "# Change the values of umbral and alpha and try to obtain a good result\n",
        "\n",
        "W = train(x, y, 1000,  0.001)\n",
        "\n"
      ]
    }
  ],
  "metadata": {
    "colab": {
      "provenance": [],
      "include_colab_link": true
    },
    "kernelspec": {
      "display_name": "Python 3",
      "name": "python3"
    },
    "language_info": {
      "name": "python"
    }
  },
  "nbformat": 4,
  "nbformat_minor": 0
}